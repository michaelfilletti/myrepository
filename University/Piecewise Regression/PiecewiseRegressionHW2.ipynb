{
 "cells": [
  {
   "cell_type": "code",
   "execution_count": 2,
   "metadata": {},
   "outputs": [],
   "source": [
    "import numpy as np\n",
    "import pandas as pd\n",
    "import matplotlib.pyplot as plt\n",
    "import statsmodels.api as sm"
   ]
  },
  {
   "cell_type": "markdown",
   "metadata": {},
   "source": [
    "Extracting the data"
   ]
  },
  {
   "cell_type": "code",
   "execution_count": 206,
   "metadata": {},
   "outputs": [],
   "source": [
    "data=pd.read_csv('/Users/michaelfilletti/Desktop/Uni/AI/Machine Learning/JP/201819_car_insurance_data - 201819.csv')\n",
    "header=['Class', 'Kilometres', 'MarketValue', 'Year', 'Model']\n",
    "data=pd.read_csv('/Users/michaelfilletti/Desktop/Uni/AI/Machine Learning/JP/201819_car_insurance_data - 201718.csv', header=None, names=header)"
   ]
  },
  {
   "cell_type": "markdown",
   "metadata": {},
   "source": [
    "Based on 2018-19 data"
   ]
  },
  {
   "cell_type": "markdown",
   "metadata": {},
   "source": [
    "Piecewise Model - Full dataset"
   ]
  },
  {
   "cell_type": "code",
   "execution_count": 207,
   "metadata": {
    "scrolled": true
   },
   "outputs": [
    {
     "name": "stdout",
     "output_type": "stream",
     "text": [
      "[199312 178000 160000 142278 138000 118895 118000 110000  97000  85697\n",
      "  84000  71010  62000  60000  57000  46863  45312  45000  42533  42000\n",
      "  31286  14822]\n",
      "[14822 31286 42533 45312 46863 57000 60000 71010 84000 85697]\n",
      "[ 97000 118000 118895 142278 199312 138000 110000  45000  42000  62000]\n"
     ]
    }
   ],
   "source": [
    "#Creating the dataset\n",
    "x=np.array(data.sort_values('Kilometres',ascending=False)['Kilometres'])\n",
    "y=np.array(data.sort_values('Kilometres',ascending=False)['MarketValue'])\n",
    "print(x)\n",
    "print(x1h)\n",
    "print(x2h)"
   ]
  },
  {
   "cell_type": "code",
   "execution_count": 208,
   "metadata": {},
   "outputs": [
    {
     "name": "stdout",
     "output_type": "stream",
     "text": [
      "First half of model\n",
      "b= 19989.50441776251 m= -0.2463990639941835\n",
      "Our R squared value is 0.6059863535823578\n",
      "\n",
      "Second half of model\n",
      "b= 6704.725466886015 m= -0.020740827805388516\n",
      "Our R squared value is 0.13246668605158496\n",
      "\n",
      "Our R squared value of the entire model is 0.6733342469686667\n"
     ]
    }
   ],
   "source": [
    "#Creating the dataset\n",
    "x=np.array(data.sort_values('Kilometres')['Kilometres'])\n",
    "y=np.array(data.sort_values('Kilometres')['MarketValue'])\n",
    "x1h=x[0:10]\n",
    "y1h=y[0:10]\n",
    "\n",
    "x=np.array(data.sort_values('Kilometres',ascending=False)['Kilometres'])\n",
    "y=np.array(data.sort_values('Kilometres',ascending=False)['MarketValue'])\n",
    "x2h=x[0:12]\n",
    "y2h=y[0:12]\n",
    "\n",
    "#Extracting the parameters for first half\n",
    "n=len(x1h)\n",
    "xy=x1h*y1h\n",
    "x_sqrd=x1h*x1h\n",
    "\n",
    "m1h=(n*np.sum(xy)-(np.sum(x1h)*np.sum(y1h)))/(n*np.sum(x_sqrd)-(np.sum(x1h))**2)\n",
    "b1h=(np.sum(y1h)*np.sum(x_sqrd)-np.sum(xy)*np.sum(x1h))/(n*np.sum(x_sqrd)-(np.sum(x1h))**2)\n",
    "print('First half of model')\n",
    "print('b=',b1h,'m=',m1h,)\n",
    "\n",
    "R_sqrd1h=1-(np.sum((y1h-(m1h*x1h+b1h))**2))/(np.sum((y1h-(np.mean(y1h)))**2))\n",
    "print('Our R squared value is',R_sqrd1h,)\n",
    "\n",
    "#Extracting the parameters for second half\n",
    "n=len(x2h)\n",
    "xy=x2h*y2h\n",
    "x_sqrd=x2h*x2h\n",
    "\n",
    "m2h=(n*np.sum(xy)-(np.sum(x2h)*np.sum(y2h)))/(n*np.sum(x_sqrd)-(np.sum(x2h))**2)\n",
    "b2h=(np.sum(y2h)*np.sum(x_sqrd)-np.sum(xy)*np.sum(x2h))/(n*np.sum(x_sqrd)-(np.sum(x2h))**2)\n",
    "print('')\n",
    "print('Second half of model')\n",
    "print('b=',b2h,'m=',m2h,)\n",
    "\n",
    "R_sqrd2h=1-(np.sum((y2h-(m2h*x2h+b2h))**2))/(np.sum((y2h-(np.mean(y2h)))**2))\n",
    "print('Our R squared value is',R_sqrd2h,)\n",
    "\n",
    "xh=np.concatenate([x1h,x2h])\n",
    "yh=np.concatenate([y1h,y2h])\n",
    "y_fit=np.concatenate([(x1h*m1h+b1h),(x2h*m2h+b2h)])\n",
    "R_sqrd=1-((np.sum((yh-(y_fit))**2))/(np.sum((yh-np.mean(yh))**2)))\n",
    "print('')\n",
    "print('Our R squared value of the entire model is',R_sqrd,)"
   ]
  },
  {
   "cell_type": "code",
   "execution_count": 209,
   "metadata": {},
   "outputs": [
    {
     "data": {
      "image/png": "[encoded data removed]",
      "text/plain": [
       "<Figure size 432x288 with 1 Axes>"
      ]
     },
     "metadata": {},
     "output_type": "display_data"
    }
   ],
   "source": [
    "#Plotting the dataset\n",
    "import matplotlib.pyplot as plt\n",
    "\n",
    "xrange1h=range(0,int(round((b2h-b1h)/(m1h-m2h))))\n",
    "xrange2h=range(int(round(((b2h-b1h)/(m1h-m2h)))),300000)\n",
    "yrange1h=m1h*xrange1h+b1h\n",
    "yrange2h=m2h*xrange2h+b2h\n",
    "plt.xlabel('Kilometres')\n",
    "plt.ylabel('Price')\n",
    "plt.ylim(0,30000)\n",
    "plt.title('Plotting our regression model based on 2017-18 data')\n",
    "plt.plot(xrange1h, yrange1h)\n",
    "plt.plot(xrange2h, yrange2h)\n",
    "plt.scatter(x,y,color='r')\n",
    "plt.show()"
   ]
  },
  {
   "cell_type": "code",
   "execution_count": 210,
   "metadata": {},
   "outputs": [
    {
     "name": "stdout",
     "output_type": "stream",
     "text": [
      "0\n",
      "363278636.3636364\n"
     ]
    }
   ],
   "source": [
    "print(np.sum((yh-yh)**2))\n",
    "print(np.sum((y-np.mean(y))**2))"
   ]
  },
  {
   "cell_type": "markdown",
   "metadata": {},
   "source": [
    "Linear Model - Trimmed Data - Using Intuition"
   ]
  },
  {
   "cell_type": "code",
   "execution_count": 211,
   "metadata": {
    "scrolled": true
   },
   "outputs": [
    {
     "name": "stdout",
     "output_type": "stream",
     "text": [
      "First half of model\n",
      "b= 19100.122445066052 m= -0.16660810656783048\n",
      "Our R squared value is 0.5804368827925273\n",
      "\n",
      "Second half of model\n",
      "b= 7996.2795583762 m= -0.03791455878987771\n",
      "Our R squared value is 0.5327586298384488\n",
      "\n",
      "Our R squared value of the entire model is 0.7100369475281453\n"
     ]
    }
   ],
   "source": [
    "#Using Pearson's Residuals\n",
    "#Creating the dataset\n",
    "x_orig=np.array(data['Kilometres'])\n",
    "y_orig=np.array(data['MarketValue'])\n",
    "\n",
    "#Calculating Pearsons Residuals\n",
    "PR=(y_orig-np.mean(y_orig))/np.sqrt(np.var(y_orig))\n",
    "\n",
    "x=np.delete(x_orig,(14,21))\n",
    "y=np.delete(y_orig,(14,21))\n",
    "\n",
    "#Creating the dataset\n",
    "x1ht=x[0:10]\n",
    "y1ht=y[0:10]\n",
    "\n",
    "x2ht=x[10:20]\n",
    "y2ht=y[10:20]\n",
    "\n",
    "#Extracting the parameters for first half\n",
    "n=len(x1ht)\n",
    "xy=x1ht*y1ht\n",
    "x_sqrd=x1ht*x1ht\n",
    "\n",
    "m1ht=(n*np.sum(xy)-(np.sum(x1ht)*np.sum(y1ht)))/(n*np.sum(x_sqrd)-(np.sum(x1ht))**2)\n",
    "b1ht=(np.sum(y1h)*np.sum(x_sqrd)-np.sum(xy)*np.sum(x1ht))/(n*np.sum(x_sqrd)-(np.sum(x1ht))**2)\n",
    "print('First half of model')\n",
    "print('b=',b1ht,'m=',m1ht,)\n",
    "\n",
    "R_sqrd1ht=1-(np.sum((y1ht-(m1ht*x1ht+b1ht))**2))/(np.sum((y1ht-(np.mean(y1ht)))**2))\n",
    "print('Our R squared value is',R_sqrd1ht,)\n",
    "\n",
    "#Extracting the parameters for second half\n",
    "n=len(x2ht)\n",
    "xy=x2ht*y2ht\n",
    "x_sqrd=x2ht*x2ht\n",
    "\n",
    "m2ht=(n*np.sum(xy)-(np.sum(x2ht)*np.sum(y2ht)))/(n*np.sum(x_sqrd)-(np.sum(x2ht))**2)\n",
    "b2ht=(np.sum(y2ht)*np.sum(x_sqrd)-np.sum(xy)*np.sum(x2ht))/(n*np.sum(x_sqrd)-(np.sum(x2ht))**2)\n",
    "print('')\n",
    "print('Second half of model')\n",
    "print('b=',b2ht,'m=',m2ht,)\n",
    "\n",
    "R_sqrd2ht=1-(np.sum((y2ht-(m2ht*x2ht+b2ht))**2))/(np.sum((y2ht-(np.mean(y2ht)))**2))\n",
    "print('Our R squared value is',R_sqrd2ht,)\n",
    "\n",
    "xht=np.concatenate([x1ht,x2ht])\n",
    "yht=np.concatenate([y1ht,y2ht])\n",
    "y_fit=np.concatenate([(x1ht*m1ht+b1ht),(x2ht*m2ht+b2ht)])\n",
    "R_sqrdt=1-((np.sum((yht-(y_fit))**2))/(np.sum((yht-np.mean(yht))**2)))\n",
    "print('')\n",
    "print('Our R squared value of the entire model is',R_sqrdt,)"
   ]
  },
  {
   "cell_type": "code",
   "execution_count": 212,
   "metadata": {},
   "outputs": [
    {
     "data": {
      "image/png": "[encoded data removed]",
      "text/plain": [
       "<Figure size 432x288 with 1 Axes>"
      ]
     },
     "metadata": {},
     "output_type": "display_data"
    }
   ],
   "source": [
    "#Plotting the dataset\n",
    "import matplotlib.pyplot as plt\n",
    "\n",
    "xrange1ht=range(0,int(round((b2ht-b1ht)/(m1ht-m2ht))))\n",
    "xrange2ht=range(int(round(((b2ht-b1ht)/(m1ht-m2ht)))),300000)\n",
    "yrange1ht=m1ht*xrange1ht+b1ht\n",
    "yrange2ht=m2ht*xrange2ht+b2ht\n",
    "plt.xlabel('Kilometres')\n",
    "plt.ylabel('Price')\n",
    "plt.ylim(0,30000)\n",
    "plt.title('Plotting our regression model based on 2017-18 data')\n",
    "plt.plot(xrange1ht, yrange1ht)\n",
    "plt.plot(xrange2ht, yrange2ht)\n",
    "plt.scatter(x,y,color='r')\n",
    "plt.show()"
   ]
  },
  {
   "cell_type": "markdown",
   "metadata": {},
   "source": [
    "---"
   ]
  },
  {
   "cell_type": "markdown",
   "metadata": {},
   "source": [
    "Testing our Models"
   ]
  },
  {
   "cell_type": "code",
   "execution_count": 213,
   "metadata": {},
   "outputs": [],
   "source": [
    "data3=pd.read_csv('/Users/michaelfilletti/Desktop/Uni/AI/Machine Learning/JP/CarTestSet.csv')\n",
    "x_test=np.array(data3['Kilometres'])\n",
    "y_test=np.array(data3['MarketValue'])"
   ]
  },
  {
   "cell_type": "markdown",
   "metadata": {},
   "source": [
    "Model 1 - Piecewise Regression - Full Dataset"
   ]
  },
  {
   "cell_type": "code",
   "execution_count": 214,
   "metadata": {},
   "outputs": [
    {
     "name": "stdout",
     "output_type": "stream",
     "text": [
      "0.6589547979258337\n"
     ]
    },
    {
     "data": {
      "image/png": "[encoded data removed]",
      "text/plain": [
       "<Figure size 432x288 with 1 Axes>"
      ]
     },
     "metadata": {},
     "output_type": "display_data"
    }
   ],
   "source": [
    "y_fit=[0]*len(x_test)\n",
    "for i in range(0,len(x_test)):\n",
    "    if (x_test[i]<(b2h-b1h)/(m1h-m2h)):\n",
    "        y_fit[i]=m1h*x_test[i]+b1h\n",
    "    else:\n",
    "        y_fit[i]=m2h*x_test[i]+b2h\n",
    "\n",
    "#Compare results of our fitted y values against the actual y values\n",
    "R_sqrd=1-(np.sum((y_test-y_fit)**2))/(np.sum((y_test-(np.mean(y_test)))**2))\n",
    "print(R_sqrd)\n",
    "\n",
    "plt.title('Plot of Model 1 against actual results')\n",
    "plt.scatter(x_test,y_test,color='r')\n",
    "plt.plot(xrange1h, yrange1h)\n",
    "plt.plot(xrange2h, yrange2h)\n",
    "plt.show()"
   ]
  },
  {
   "cell_type": "markdown",
   "metadata": {},
   "source": [
    "Model 2 - Piecewise Regression - Excluded Outliers Dataset"
   ]
  },
  {
   "cell_type": "code",
   "execution_count": 217,
   "metadata": {},
   "outputs": [
    {
     "name": "stdout",
     "output_type": "stream",
     "text": [
      "0.23260753554408597\n"
     ]
    },
    {
     "data": {
      "image/png": "[encoded data removed]",
      "text/plain": [
       "<Figure size 432x288 with 1 Axes>"
      ]
     },
     "metadata": {},
     "output_type": "display_data"
    }
   ],
   "source": [
    "y_fit=[0]*len(x_test)\n",
    "for i in range(0,len(x_test)):\n",
    "    if (x_test[i]<(b2ht-b1ht)/(m1ht-m2ht)):\n",
    "        y_fit[i]=m1ht*x_test[i]+b1ht\n",
    "    else:\n",
    "        y_fit[i]=m2ht*x_test[i]+b2ht\n",
    "\n",
    "#Compare results of our fitted y values against the actual y values\n",
    "R_sqrd=1-(np.sum((y_test-y_fit)**2))/(np.sum((y_test-(np.mean(y_test)))**2))\n",
    "print(R_sqrd)\n",
    "\n",
    "plt.title('Plot of Model 2 against actual results')\n",
    "plt.scatter(x_test,y_test,color='r')\n",
    "plt.plot(xrange1ht, yrange1ht)\n",
    "plt.plot(xrange2ht, yrange2ht)\n",
    "plt.show()"
   ]
  }
 ],
 "metadata": {
  "kernelspec": {
   "display_name": "Python 3",
   "language": "python",
   "name": "python3"
  },
  "language_info": {
   "codemirror_mode": {
    "name": "ipython",
    "version": 3
   },
   "file_extension": ".py",
   "mimetype": "text/x-python",
   "name": "python",
   "nbconvert_exporter": "python",
   "pygments_lexer": "ipython3",
   "version": "3.6.5"
  }
 },
 "nbformat": 4,
 "nbformat_minor": 2
}
