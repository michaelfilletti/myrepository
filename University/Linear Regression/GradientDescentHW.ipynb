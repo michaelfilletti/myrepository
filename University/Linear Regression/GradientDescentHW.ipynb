{
 "cells": [
  {
   "cell_type": "code",
   "execution_count": 66,
   "metadata": {},
   "outputs": [],
   "source": [
    "import numpy as np\n",
    "import matplotlib.pyplot as plt\n",
    "from matplotlib import animation\n",
    "from IPython.display import HTML"
   ]
  },
  {
   "cell_type": "markdown",
   "metadata": {},
   "source": [
    "Use gradient descent to find the minimum of the function given on slide 46"
   ]
  },
  {
   "cell_type": "markdown",
   "metadata": {},
   "source": [
    "----------"
   ]
  },
  {
   "cell_type": "markdown",
   "metadata": {},
   "source": [
    "Created the function gradientdescent which takes initial x, alpha and tolerance as input. Tolerance is the smallest growth that can be taken to continue the algorithm. When growth goes below this, the algorithm is stopped.\n",
    "\n"
   ]
  },
  {
   "cell_type": "code",
   "execution_count": 54,
   "metadata": {
    "scrolled": false
   },
   "outputs": [
    {
     "name": "stdout",
     "output_type": "stream",
     "text": [
      "Taking threshold improvement as 1e-05 and learning rate 0.0003 .\n",
      "The minimum of the cost function is -2.922548283060145 with x at -0.72868283533525 .\n",
      "This took 3776 iterations to complete.\n",
      "The list of parameters is:\n",
      "[ 3.97190000e+04  2.89175960e+03  1.65219453e+03 ... -2.92251803e+00\n",
      " -2.92252824e+00 -2.92253832e+00]\n"
     ]
    },
    {
     "data": {
      "image/png": "[encoded data removed]",
      "text/plain": [
       "<matplotlib.figure.Figure at 0x10fcd9ef0>"
      ]
     },
     "metadata": {},
     "output_type": "display_data"
    }
   ],
   "source": [
    "def gradientdescent(x,alpha,tol):\n",
    "    count=0\n",
    "    Cs=[]\n",
    "    xs=[]\n",
    "    counter=[]\n",
    "    reltol=100\n",
    "    while abs(reltol)>tol:\n",
    "        C_orig=(4*(x**4))-(3*(x**2))+(2*x)-1\n",
    "        Cs=np.append(Cs,C_orig)\n",
    "        xs=np.append(xs,x)\n",
    "        count=count+1\n",
    "        counter=np.append(counter,count)\n",
    "        C_diff=(16*(x**3))-(6*x)+2\n",
    "        x=x-(alpha*C_diff)\n",
    "        Cnew=(4*(x**4))-(3*(x**2))+(2*x)-1\n",
    "        reltol=Cnew-C_orig\n",
    "    C=(4*(x**4))-(3*(x**2))+(2*x)-1\n",
    "    print('Taking threshold improvement as',tol,'and learning rate',alpha,'.')\n",
    "    print('The minimum of the cost function is',Cnew,'with x at',x,'.')\n",
    "    print('This took',count,'iterations to complete.')\n",
    "    print('The list of parameters is:')\n",
    "    print(Cs)\n",
    "    r=np.array(range(-10,11))\n",
    "    plt.title('Applying the Gradient Descent to our function')\n",
    "    plt.plot(r,(4*(r**4))-(3*(r**2))+(2*r)-1)\n",
    "    for i in range(0,len(xs)):\n",
    "        plt.scatter(xs[i],(4*(xs[i]**4))-(3*(xs[i]**2))+(2*xs[i])-1,color='r')\n",
    "        \n",
    "    \n",
    "gradientdescent(10,0.0003,0.00001)"
   ]
  },
  {
   "cell_type": "code",
   "execution_count": 84,
   "metadata": {},
   "outputs": [
    {
     "name": "stdout",
     "output_type": "stream",
     "text": [
      "Taking threshold improvement as 1e-06 and learning rate 0.0005 .\n",
      "The minimum of the cost function is -2.923334988587399 with x at -0.7356360527269226 .\n",
      "This took 2394 iterations to complete.\n",
      "The list of parameters is:\n",
      "[ 3.97190000e+04  5.85009963e+01  5.12355219e+01 ... -2.92333194e+00\n",
      " -2.92333298e+00 -2.92333399e+00]\n"
     ]
    },
    {
     "name": "stderr",
     "output_type": "stream",
     "text": [
      "Traceback (most recent call last):\n",
      "  File \"/Users/michaelfilletti/anaconda3/envs/ics5110/lib/python3.6/site-packages/matplotlib/cbook/__init__.py\", line 388, in process\n",
      "    proxy(*args, **kwargs)\n",
      "  File \"/Users/michaelfilletti/anaconda3/envs/ics5110/lib/python3.6/site-packages/matplotlib/cbook/__init__.py\", line 228, in __call__\n",
      "    return mtd(*args, **kwargs)\n",
      "  File \"/Users/michaelfilletti/anaconda3/envs/ics5110/lib/python3.6/site-packages/matplotlib/animation.py\", line 1081, in _start\n",
      "    self._init_draw()\n",
      "  File \"/Users/michaelfilletti/anaconda3/envs/ics5110/lib/python3.6/site-packages/matplotlib/animation.py\", line 1798, in _init_draw\n",
      "    raise RuntimeError('The init_func must return a '\n",
      "RuntimeError: The init_func must return a sequence of Artist objects.\n"
     ]
    },
    {
     "data": {
      "image/png": "[encoded data removed]",
      "text/plain": [
       "<matplotlib.figure.Figure at 0x1110f9f60>"
      ]
     },
     "metadata": {},
     "output_type": "display_data"
    }
   ],
   "source": [
    "def gradientdescent(x,alpha,tol):\n",
    "    count=0\n",
    "    Cs=[]\n",
    "    xs=[]\n",
    "    counter=[]\n",
    "    reltol=100\n",
    "    while abs(reltol)>tol:\n",
    "        C_orig=(4*(x**4))-(3*(x**2))+(2*x)-1\n",
    "        Cs=np.append(Cs,C_orig)\n",
    "        xs=np.append(xs,x)\n",
    "        count=count+1\n",
    "        counter=np.append(counter,count)\n",
    "        C_diff=(16*(x**3))-(6*x)+2\n",
    "        x=x-(alpha*C_diff)\n",
    "        Cnew=(4*(x**4))-(3*(x**2))+(2*x)-1\n",
    "        reltol=Cnew-C_orig\n",
    "    C=(4*(x**4))-(3*(x**2))+(2*x)-1\n",
    "    \n",
    "    print('Taking threshold improvement as',tol,'and learning rate',alpha,'.')\n",
    "    print('The minimum of the cost function is',Cnew,'with x at',x,'.')\n",
    "    print('This took',count,'iterations to complete.')\n",
    "    print('The list of parameters is:')\n",
    "    print(Cs)\n",
    "\n",
    "    def init():\n",
    "        fig=plt.figure()\n",
    "        plt.title('Applying Gradient Descent to our function')\n",
    "    \n",
    "    def animate(i):\n",
    "        r=np.array(range(-10,11))\n",
    "        plt.plot(r,(4*(r**4))-(3*(r**2))+(2*r)-1)\n",
    "        plt.scatter(xs[i],(4*(xs[i]**4))-(3*(xs[i]**2))+(2*xs[i])-1,color='r')\n",
    "        \n",
    "    ani = animation.FuncAnimation(fig, animate, init_func=init, frames=len(xs), interval=20,blit=True)\n",
    "    plt.show()\n",
    "\n",
    "gradientdescent(10,0.0005,0.000001)"
   ]
  },
  {
   "cell_type": "code",
   "execution_count": null,
   "metadata": {},
   "outputs": [],
   "source": []
  }
 ],
 "metadata": {
  "kernelspec": {
   "display_name": "Python 3",
   "language": "python",
   "name": "python3"
  },
  "language_info": {
   "codemirror_mode": {
    "name": "ipython",
    "version": 3
   },
   "file_extension": ".py",
   "mimetype": "text/x-python",
   "name": "python",
   "nbconvert_exporter": "python",
   "pygments_lexer": "ipython3",
   "version": "3.6.5"
  }
 },
 "nbformat": 4,
 "nbformat_minor": 2
}
