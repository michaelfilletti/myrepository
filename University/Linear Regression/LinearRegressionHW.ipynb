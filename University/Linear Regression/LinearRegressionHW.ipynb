{
 "cells": [
  {
   "cell_type": "code",
   "execution_count": 2,
   "metadata": {},
   "outputs": [],
   "source": [
    "import numpy as np\n",
    "import pandas as pd\n",
    "import matplotlib.pyplot as plt\n",
    "import statsmodels.api as sm"
   ]
  },
  {
   "cell_type": "code",
   "execution_count": 36,
   "metadata": {},
   "outputs": [],
   "source": [
    "#This is our dataset\n",
    "x=np.array([84,76,90,63,55,60,34])\n",
    "y=np.array([70,64,83,45,40,38,20])"
   ]
  },
  {
   "cell_type": "markdown",
   "metadata": {},
   "source": [
    "Using the partial derivation of E wrt m,b to find the gradient and intercept and create the model"
   ]
  },
  {
   "cell_type": "code",
   "execution_count": 57,
   "metadata": {},
   "outputs": [
    {
     "name": "stdout",
     "output_type": "stream",
     "text": [
      "b= 11102.943900105107 m= -0.053958098582618616\n"
     ]
    }
   ],
   "source": [
    "#Extracting the parameters\n",
    "n=len(x)\n",
    "xy=x*y\n",
    "x_sqrd=x*x\n",
    "\n",
    "m=(n*np.sum(xy)-(np.sum(x)*np.sum(y)))/(n*np.sum(x_sqrd)-(np.sum(x))**2)\n",
    "b=(np.sum(y)*np.sum(x_sqrd)-np.sum(xy)*np.sum(x))/(n*np.sum(x_sqrd)-(np.sum(x))**2)\n",
    "print('b=',b,'m=',m,)"
   ]
  },
  {
   "cell_type": "code",
   "execution_count": 37,
   "metadata": {},
   "outputs": [
    {
     "data": {
      "text/plain": [
       "array([-22.37690802,   1.11826484])"
      ]
     },
     "execution_count": 37,
     "metadata": {},
     "output_type": "execute_result"
    }
   ],
   "source": [
    "#Checking the results with statsmodels\n",
    "xtest = sm.add_constant(x)\n",
    "res_ols = sm.OLS(y, xtest).fit()\n",
    "res_ols.params"
   ]
  },
  {
   "cell_type": "markdown",
   "metadata": {},
   "source": [
    "What mark will you get if you study for 80 hours?"
   ]
  },
  {
   "cell_type": "code",
   "execution_count": 15,
   "metadata": {},
   "outputs": [
    {
     "name": "stdout",
     "output_type": "stream",
     "text": [
      "If you study for 80 hours, you will get  67.0 marks\n"
     ]
    }
   ],
   "source": [
    "x1=80 #Let the mark be 80\n",
    "y1=m*x1+b #Use the model to solve this\n",
    "print('If you study for',x1,'hours, you will get ',round(y1,0),'marks')"
   ]
  },
  {
   "cell_type": "markdown",
   "metadata": {},
   "source": [
    "How many hours do you need to study to get an A (i.e. 80 or higher)"
   ]
  },
  {
   "cell_type": "code",
   "execution_count": 11,
   "metadata": {},
   "outputs": [
    {
     "name": "stdout",
     "output_type": "stream",
     "text": [
      "You need to study at least 91.5 hours to get an A\n"
     ]
    }
   ],
   "source": [
    "y2=80\n",
    "x2=(y2-b)/m\n",
    "print('You need to study at least',round(x2,1),'hours to get an A')"
   ]
  },
  {
   "cell_type": "code",
   "execution_count": 26,
   "metadata": {},
   "outputs": [
    {
     "data": {
      "image/png": "[encoded data removed]",
      "text/plain": [
       "<matplotlib.figure.Figure at 0x1c199340b8>"
      ]
     },
     "metadata": {},
     "output_type": "display_data"
    }
   ],
   "source": [
    "xrange=range(0,120)\n",
    "yrange=m*xrange+b\n",
    "plt.xlabel('Hours Studied')\n",
    "plt.ylabel('Marks')\n",
    "plt.ylim(0,100)\n",
    "plt.title('Plotting our regression model (using OLS)')\n",
    "plt.plot(xrange, yrange)\n",
    "plt.scatter(x,y,color='r')\n",
    "plt.show()"
   ]
  },
  {
   "cell_type": "markdown",
   "metadata": {},
   "source": [
    "---------_"
   ]
  },
  {
   "cell_type": "code",
   "execution_count": 54,
   "metadata": {},
   "outputs": [
    {
     "data": {
      "text/html": [
       "<div>\n",
       "<style scoped>\n",
       "    .dataframe tbody tr th:only-of-type {\n",
       "        vertical-align: middle;\n",
       "    }\n",
       "\n",
       "    .dataframe tbody tr th {\n",
       "        vertical-align: top;\n",
       "    }\n",
       "\n",
       "    .dataframe thead th {\n",
       "        text-align: right;\n",
       "    }\n",
       "</style>\n",
       "<table border=\"1\" class=\"dataframe\">\n",
       "  <thead>\n",
       "    <tr style=\"text-align: right;\">\n",
       "      <th></th>\n",
       "      <th>Class</th>\n",
       "      <th>Kilometres</th>\n",
       "      <th>MarketValue</th>\n",
       "      <th>Year</th>\n",
       "      <th>Model</th>\n",
       "    </tr>\n",
       "  </thead>\n",
       "  <tbody>\n",
       "    <tr>\n",
       "      <th>0</th>\n",
       "      <td>2017</td>\n",
       "      <td>14822</td>\n",
       "      <td>18700</td>\n",
       "      <td>NaN</td>\n",
       "      <td>Toyota Auris HDi</td>\n",
       "    </tr>\n",
       "    <tr>\n",
       "      <th>1</th>\n",
       "      <td>2017</td>\n",
       "      <td>31286</td>\n",
       "      <td>14000</td>\n",
       "      <td>NaN</td>\n",
       "      <td>NaN</td>\n",
       "    </tr>\n",
       "    <tr>\n",
       "      <th>2</th>\n",
       "      <td>2017</td>\n",
       "      <td>42533</td>\n",
       "      <td>7300</td>\n",
       "      <td>2011.0</td>\n",
       "      <td>Seat Ibiza 1.2TSI</td>\n",
       "    </tr>\n",
       "    <tr>\n",
       "      <th>3</th>\n",
       "      <td>2017</td>\n",
       "      <td>45312</td>\n",
       "      <td>6700</td>\n",
       "      <td>2011.0</td>\n",
       "      <td>VW Polo</td>\n",
       "    </tr>\n",
       "    <tr>\n",
       "      <th>4</th>\n",
       "      <td>2017</td>\n",
       "      <td>46863</td>\n",
       "      <td>10700</td>\n",
       "      <td>2013.0</td>\n",
       "      <td>VW Polo 1.2 TSI</td>\n",
       "    </tr>\n",
       "  </tbody>\n",
       "</table>\n",
       "</div>"
      ],
      "text/plain": [
       "   Class  Kilometres  MarketValue    Year              Model\n",
       "0   2017       14822        18700     NaN   Toyota Auris HDi\n",
       "1   2017       31286        14000     NaN                NaN\n",
       "2   2017       42533         7300  2011.0  Seat Ibiza 1.2TSI\n",
       "3   2017       45312         6700  2011.0            VW Polo\n",
       "4   2017       46863        10700  2013.0    VW Polo 1.2 TSI"
      ]
     },
     "execution_count": 54,
     "metadata": {},
     "output_type": "execute_result"
    }
   ],
   "source": [
    "data=pd.read_csv('/Users/michaelfilletti/Desktop/Uni/AI/Machine Learning/JP/201819_car_insurance_data - 201819.csv')\n",
    "header=['Class', 'Kilometres', 'MarketValue', 'Year', 'Model']\n",
    "data2=pd.read_csv('/Users/michaelfilletti/Desktop/Uni/AI/Machine Learning/JP/201819_car_insurance_data - 201718.csv', header=None, names=header)\n",
    "data2.head()"
   ]
  },
  {
   "cell_type": "markdown",
   "metadata": {},
   "source": [
    "Based on 2018-19 data"
   ]
  },
  {
   "cell_type": "code",
   "execution_count": 61,
   "metadata": {},
   "outputs": [
    {
     "name": "stdout",
     "output_type": "stream",
     "text": [
      "b= 12862.984658711614 m= -0.04997218594604209\n"
     ]
    }
   ],
   "source": [
    "#Creating the dataset\n",
    "x=np.array(data['Kilometres'])\n",
    "y=np.array(data['MarketValue'])\n",
    "\n",
    "#Extracting the parameters\n",
    "n=len(x)\n",
    "xy=x*y\n",
    "x_sqrd=x*x\n",
    "\n",
    "m=(n*np.sum(xy)-(np.sum(x)*np.sum(y)))/(n*np.sum(x_sqrd)-(np.sum(x))**2)\n",
    "b=(np.sum(y)*np.sum(x_sqrd)-np.sum(xy)*np.sum(x))/(n*np.sum(x_sqrd)-(np.sum(x))**2)\n",
    "print('b=',b,'m=',m,)"
   ]
  },
  {
   "cell_type": "code",
   "execution_count": 45,
   "metadata": {
    "scrolled": false
   },
   "outputs": [
    {
     "data": {
      "text/plain": [
       "array([ 1.28629847e+04, -4.99721859e-02])"
      ]
     },
     "execution_count": 45,
     "metadata": {},
     "output_type": "execute_result"
    }
   ],
   "source": [
    "#Checking the results with statsmodels\n",
    "\n",
    "xtest = sm.add_constant(x)\n",
    "res_ols = sm.OLS(y, xtest).fit()\n",
    "res_ols.params"
   ]
  },
  {
   "cell_type": "code",
   "execution_count": 62,
   "metadata": {},
   "outputs": [
    {
     "data": {
      "image/png": "[encoded data removed]",
      "text/plain": [
       "<matplotlib.figure.Figure at 0x1c19b5ad68>"
      ]
     },
     "metadata": {},
     "output_type": "display_data"
    }
   ],
   "source": [
    "#Plotting the dataset\n",
    "import matplotlib.pyplot as plt\n",
    "\n",
    "xrange=range(0,300000)\n",
    "yrange=m*xrange+b\n",
    "plt.xlabel('Kilometres')\n",
    "plt.ylabel('Price')\n",
    "plt.ylim(0,20000)\n",
    "plt.title('Plotting our regression model based on 2018-19 data')\n",
    "plt.plot(xrange, yrange)\n",
    "plt.scatter(x,y,color='r')\n",
    "plt.show()"
   ]
  },
  {
   "cell_type": "markdown",
   "metadata": {},
   "source": [
    "Based on 2017-18 data"
   ]
  },
  {
   "cell_type": "code",
   "execution_count": 59,
   "metadata": {},
   "outputs": [
    {
     "name": "stdout",
     "output_type": "stream",
     "text": [
      "b= 11102.943900105107 m= -0.053958098582618616\n"
     ]
    }
   ],
   "source": [
    "#Creating the dataset\n",
    "x=np.array(data2['Kilometres'])\n",
    "y=np.array(data2['MarketValue'])\n",
    "\n",
    "#Extracting the parameters\n",
    "n=len(x)\n",
    "xy=x*y\n",
    "x_sqrd=x*x\n",
    "\n",
    "m=(n*np.sum(xy)-(np.sum(x)*np.sum(y)))/(n*np.sum(x_sqrd)-(np.sum(x))**2)\n",
    "b=(np.sum(y)*np.sum(x_sqrd)-np.sum(xy)*np.sum(x))/(n*np.sum(x_sqrd)-(np.sum(x))**2)\n",
    "print('b=',b,'m=',m,)"
   ]
  },
  {
   "cell_type": "code",
   "execution_count": 50,
   "metadata": {},
   "outputs": [
    {
     "data": {
      "text/plain": [
       "array([ 1.11029439e+04, -5.39580986e-02])"
      ]
     },
     "execution_count": 50,
     "metadata": {},
     "output_type": "execute_result"
    }
   ],
   "source": [
    "#Checking the results with statsmodels\n",
    "\n",
    "xtest = sm.add_constant(x)\n",
    "res_ols = sm.OLS(y, xtest).fit()\n",
    "res_ols.params"
   ]
  },
  {
   "cell_type": "code",
   "execution_count": 60,
   "metadata": {},
   "outputs": [
    {
     "data": {
      "image/png": "[encoded data removed]",
      "text/plain": [
       "<matplotlib.figure.Figure at 0x1c19843240>"
      ]
     },
     "metadata": {},
     "output_type": "display_data"
    }
   ],
   "source": [
    "#Plotting the dataset\n",
    "import matplotlib.pyplot as plt\n",
    "\n",
    "xrange=range(0,300000)\n",
    "yrange=m*xrange+b\n",
    "plt.xlabel('Kilometres')\n",
    "plt.ylabel('Price')\n",
    "plt.ylim(0,20000)\n",
    "plt.title('Plotting our regression model based on 2017-18 data')\n",
    "plt.plot(xrange, yrange)\n",
    "plt.scatter(x,y,color='r')\n",
    "plt.show()"
   ]
  },
  {
   "cell_type": "code",
   "execution_count": null,
   "metadata": {},
   "outputs": [],
   "source": []
  }
 ],
 "metadata": {
  "kernelspec": {
   "display_name": "Python 3",
   "language": "python",
   "name": "python3"
  },
  "language_info": {
   "codemirror_mode": {
    "name": "ipython",
    "version": 3
   },
   "file_extension": ".py",
   "mimetype": "text/x-python",
   "name": "python",
   "nbconvert_exporter": "python",
   "pygments_lexer": "ipython3",
   "version": "3.6.5"
  }
 },
 "nbformat": 4,
 "nbformat_minor": 2
}
