{
 "cells": [
  {
   "cell_type": "code",
   "execution_count": 274,
   "metadata": {},
   "outputs": [],
   "source": [
    "#Importing packages\n",
    "import numpy as np\n",
    "import matplotlib.pyplot as plt\n",
    "import pandas as pd\n",
    "import math\n",
    "from sklearn.linear_model import LogisticRegression\n",
    "from sklearn.preprocessing import LabelEncoder\n",
    "from sklearn.metrics import confusion_matrix"
   ]
  },
  {
   "cell_type": "code",
   "execution_count": 388,
   "metadata": {},
   "outputs": [
    {
     "data": {
      "text/html": [
       "<div>\n",
       "<style scoped>\n",
       "    .dataframe tbody tr th:only-of-type {\n",
       "        vertical-align: middle;\n",
       "    }\n",
       "\n",
       "    .dataframe tbody tr th {\n",
       "        vertical-align: top;\n",
       "    }\n",
       "\n",
       "    .dataframe thead th {\n",
       "        text-align: right;\n",
       "    }\n",
       "</style>\n",
       "<table border=\"1\" class=\"dataframe\">\n",
       "  <thead>\n",
       "    <tr style=\"text-align: right;\">\n",
       "      <th></th>\n",
       "      <th>PassengerId</th>\n",
       "      <th>Survived</th>\n",
       "      <th>Pclass</th>\n",
       "      <th>Name</th>\n",
       "      <th>Sex</th>\n",
       "      <th>Age</th>\n",
       "      <th>SibSp</th>\n",
       "      <th>Parch</th>\n",
       "      <th>Ticket</th>\n",
       "      <th>Fare</th>\n",
       "      <th>Cabin</th>\n",
       "      <th>Embarked</th>\n",
       "    </tr>\n",
       "  </thead>\n",
       "  <tbody>\n",
       "    <tr>\n",
       "      <th>1</th>\n",
       "      <td>2</td>\n",
       "      <td>1</td>\n",
       "      <td>1</td>\n",
       "      <td>Cumings, Mrs. John Bradley (Florence Briggs Th...</td>\n",
       "      <td>1</td>\n",
       "      <td>38.0</td>\n",
       "      <td>1</td>\n",
       "      <td>0</td>\n",
       "      <td>PC 17599</td>\n",
       "      <td>71.2833</td>\n",
       "      <td>C85</td>\n",
       "      <td>0</td>\n",
       "    </tr>\n",
       "    <tr>\n",
       "      <th>3</th>\n",
       "      <td>4</td>\n",
       "      <td>1</td>\n",
       "      <td>1</td>\n",
       "      <td>Futrelle, Mrs. Jacques Heath (Lily May Peel)</td>\n",
       "      <td>1</td>\n",
       "      <td>35.0</td>\n",
       "      <td>1</td>\n",
       "      <td>0</td>\n",
       "      <td>113803</td>\n",
       "      <td>53.1000</td>\n",
       "      <td>C123</td>\n",
       "      <td>2</td>\n",
       "    </tr>\n",
       "    <tr>\n",
       "      <th>6</th>\n",
       "      <td>7</td>\n",
       "      <td>0</td>\n",
       "      <td>1</td>\n",
       "      <td>McCarthy, Mr. Timothy J</td>\n",
       "      <td>0</td>\n",
       "      <td>54.0</td>\n",
       "      <td>0</td>\n",
       "      <td>0</td>\n",
       "      <td>17463</td>\n",
       "      <td>51.8625</td>\n",
       "      <td>E46</td>\n",
       "      <td>2</td>\n",
       "    </tr>\n",
       "    <tr>\n",
       "      <th>10</th>\n",
       "      <td>11</td>\n",
       "      <td>1</td>\n",
       "      <td>3</td>\n",
       "      <td>Sandstrom, Miss. Marguerite Rut</td>\n",
       "      <td>1</td>\n",
       "      <td>4.0</td>\n",
       "      <td>1</td>\n",
       "      <td>1</td>\n",
       "      <td>PP 9549</td>\n",
       "      <td>16.7000</td>\n",
       "      <td>G6</td>\n",
       "      <td>2</td>\n",
       "    </tr>\n",
       "    <tr>\n",
       "      <th>11</th>\n",
       "      <td>12</td>\n",
       "      <td>1</td>\n",
       "      <td>1</td>\n",
       "      <td>Bonnell, Miss. Elizabeth</td>\n",
       "      <td>1</td>\n",
       "      <td>58.0</td>\n",
       "      <td>0</td>\n",
       "      <td>0</td>\n",
       "      <td>113783</td>\n",
       "      <td>26.5500</td>\n",
       "      <td>C103</td>\n",
       "      <td>2</td>\n",
       "    </tr>\n",
       "  </tbody>\n",
       "</table>\n",
       "</div>"
      ],
      "text/plain": [
       "    PassengerId  Survived  Pclass  \\\n",
       "1             2         1       1   \n",
       "3             4         1       1   \n",
       "6             7         0       1   \n",
       "10           11         1       3   \n",
       "11           12         1       1   \n",
       "\n",
       "                                                 Name  Sex   Age  SibSp  \\\n",
       "1   Cumings, Mrs. John Bradley (Florence Briggs Th...    1  38.0      1   \n",
       "3        Futrelle, Mrs. Jacques Heath (Lily May Peel)    1  35.0      1   \n",
       "6                             McCarthy, Mr. Timothy J    0  54.0      0   \n",
       "10                    Sandstrom, Miss. Marguerite Rut    1   4.0      1   \n",
       "11                           Bonnell, Miss. Elizabeth    1  58.0      0   \n",
       "\n",
       "    Parch    Ticket     Fare Cabin  Embarked  \n",
       "1       0  PC 17599  71.2833   C85         0  \n",
       "3       0    113803  53.1000  C123         2  \n",
       "6       0     17463  51.8625   E46         2  \n",
       "10      1   PP 9549  16.7000    G6         2  \n",
       "11      0    113783  26.5500  C103         2  "
      ]
     },
     "execution_count": 388,
     "metadata": {},
     "output_type": "execute_result"
    }
   ],
   "source": [
    "#Preprocessing Data\n",
    "train=pd.read_csv('/Users/michaelfilletti/Desktop/Uni/AI/Machine Learning/JP/Linear & Logistic Regression/train.csv')\n",
    "test=pd.read_csv('/Users/michaelfilletti/Desktop/Uni/AI/Machine Learning/JP/Linear & Logistic Regression/test.csv')\n",
    "train['Sex'] = np.where(train['Sex'] == 'male', 0, 1)\n",
    "test['Sex'] = np.where(test['Sex'] == 'male', 0, 1)\n",
    "train['Embarked']=pd.Categorical(train['Embarked'])\n",
    "train['Embarked']=train['Embarked'].cat.codes\n",
    "test['Embarked']=pd.Categorical(test['Embarked'])\n",
    "test['Embarked']=test['Embarked'].cat.codes\n",
    "train=train.dropna()\n",
    "test=test.dropna()\n",
    "\n",
    "train.head()"
   ]
  },
  {
   "cell_type": "code",
   "execution_count": 416,
   "metadata": {},
   "outputs": [],
   "source": [
    "#Datasets\n",
    "#Training\n",
    "y=np.asarray(train['Survived'])\n",
    "x0=[1]*len(y)\n",
    "x1=train['Pclass'].values\n",
    "x2=train['Sex'].values\n",
    "x3=train['Age'].values\n",
    "x4=train['SibSp'].values\n",
    "x5=train['Parch'].values\n",
    "x6=train['Fare'].values\n",
    "x7=train['Embarked'].values\n",
    "\n",
    "#Test\n",
    "x1t=test['Pclass'].values\n",
    "x2t=test['Sex'].values\n",
    "x3t=test['Age'].values\n",
    "x4t=test['SibSp'].values\n",
    "x5t=test['Parch'].values\n",
    "x6t=test['Fare'].values\n",
    "x7t=test['Embarked'].values\n",
    "x0t=np.array([1]*len(x1t))"
   ]
  },
  {
   "cell_type": "code",
   "execution_count": 417,
   "metadata": {
    "scrolled": true
   },
   "outputs": [
    {
     "name": "stdout",
     "output_type": "stream",
     "text": [
      "[-2 -2  2  2  2]\n"
     ]
    }
   ],
   "source": [
    "#Training the dataset\n",
    "#Obtaining the parameters\n",
    "w=np.array([1,1,1,1,1])\n",
    "x=np.array([x0,x3,x4,x5,x6])\n",
    "alpha=0.00001\n",
    "for j in range(0,len(w)):\n",
    "    count=0\n",
    "    wj=w[j]\n",
    "    for i in range(0,10000):\n",
    "        count=count+1\n",
    "        lin=np.matmul(np.transpose(w),x)\n",
    "        diff=np.sum(x-y*x-(x*np.exp(-lin)/(1+np.exp(-lin))))\n",
    "        wj=wj-(alpha*(diff)/len(y))\n",
    "    w[j]=wj\n",
    "print(w)"
   ]
  },
  {
   "cell_type": "code",
   "execution_count": 418,
   "metadata": {
    "scrolled": true
   },
   "outputs": [
    {
     "name": "stdout",
     "output_type": "stream",
     "text": [
      "[1, 1, 1, 1, 0, 1, 1, 0, 1, 1, 1, 0, 1, 1, 0, 1, 0, 1, 1, 0, 1, 1, 1, 1, 0, 0, 1, 1, 1, 1, 0, 1, 1, 1, 0, 1, 1, 1, 1, 1, 1, 1, 1, 1, 0, 0, 1, 0, 1, 1, 1, 1, 1, 1, 1, 1, 1, 1, 0, 1, 1, 1, 1, 0, 0, 1, 0, 0, 1, 1, 0, 0, 1, 1, 0, 1, 0, 1, 0, 1, 1, 1, 0, 0, 1, 1, 1]\n"
     ]
    }
   ],
   "source": [
    "#Testing the dataset\n",
    "x=np.array([x0t,x3t,x4t,x5t,x6t]) #Find a way to show an array of ones with the vector\n",
    "lin=np.matmul(np.transpose(w),x)\n",
    "p=1/(1+np.exp(-lin))\n",
    "yt=[0]*len(p)\n",
    "for i in range(0,len(p)):\n",
    "    if (p[i]<0.5):\n",
    "        yt[i]=0\n",
    "    else:\n",
    "        yt[i]=1\n",
    "print(yt)"
   ]
  },
  {
   "cell_type": "code",
   "execution_count": 419,
   "metadata": {
    "scrolled": false
   },
   "outputs": [
    {
     "name": "stdout",
     "output_type": "stream",
     "text": [
      "[1 1 1 1 0 1 1 0 1 1 1 0 1 1 1 1 1 1 1 1 0 1 1 1 0 1 1 1 1 1 0 0 1 1 0 0 0\n",
      " 1 1 0 1 1 1 1 1 0 1 1 1 0 1 0 0 1 0 1 1 0 1 0 0 1 0 0 0 1 0 0 1 1 0 1 1 1\n",
      " 0 1 0 1 1 1 1 1 0 1 0 1 1]\n"
     ]
    }
   ],
   "source": [
    "#Using sci-kit learn to carry out a logistic regression\n",
    "y=np.asarray(train['Survived'])\n",
    "x0=[1]*len(y)\n",
    "x1=np.asarray(train['Pclass'])\n",
    "x2=np.asarray(pd.factorize(train['Sex']))\n",
    "x3=np.asarray(train['Age'])\n",
    "x4=np.asarray(train['SibSp'])\n",
    "x5=np.asarray(train['Parch'])\n",
    "x6=np.asarray(train['Fare'])\n",
    "x7=np.asarray(pd.factorize(train['Embarked']))\n",
    "X=train.iloc[:,[2,4,5,6,7,9,11]]\n",
    "y=train.iloc[:,1]\n",
    "Xt=test.iloc[:,[1,3,4,5,6,8,10]]\n",
    "clf = LogisticRegression().fit(X, y)\n",
    "yt2=clf.predict(Xt)\n",
    "print(yt2)"
   ]
  },
  {
   "cell_type": "code",
   "execution_count": 420,
   "metadata": {},
   "outputs": [
    {
     "data": {
      "text/plain": [
       "array([[15, 10],\n",
       "       [14, 48]])"
      ]
     },
     "execution_count": 420,
     "metadata": {},
     "output_type": "execute_result"
    }
   ],
   "source": [
    "#Confusion Matrix\n",
    "yt=pd.Categorical(yt)\n",
    "yt2=pd.Categorical(yt2)\n",
    "confusion_matrix(yt,yt2)"
   ]
  }
 ],
 "metadata": {
  "kernelspec": {
   "display_name": "Python 3",
   "language": "python",
   "name": "python3"
  },
  "language_info": {
   "codemirror_mode": {
    "name": "ipython",
    "version": 3
   },
   "file_extension": ".py",
   "mimetype": "text/x-python",
   "name": "python",
   "nbconvert_exporter": "python",
   "pygments_lexer": "ipython3",
   "version": "3.6.5"
  }
 },
 "nbformat": 4,
 "nbformat_minor": 2
}
